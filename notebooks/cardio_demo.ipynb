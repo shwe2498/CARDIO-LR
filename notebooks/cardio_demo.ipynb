{
 "cells": [
  {
   "cell_type": "code",
   "execution_count": 2,
   "id": "aed3f3b7",
   "metadata": {},
   "outputs": [
    {
     "ename": "ModuleNotFoundError",
     "evalue": "No module named 'faiss'",
     "output_type": "error",
     "traceback": [
      "\u001b[0;31m---------------------------------------------------------------------------\u001b[0m",
      "\u001b[0;31mModuleNotFoundError\u001b[0m                       Traceback (most recent call last)",
      "\u001b[0;32m<ipython-input-2-2a3441887671>\u001b[0m in \u001b[0;36m<module>\u001b[0;34m\u001b[0m\n\u001b[1;32m      7\u001b[0m \u001b[0;32mimport\u001b[0m \u001b[0mipywidgets\u001b[0m \u001b[0;32mas\u001b[0m \u001b[0mwidgets\u001b[0m\u001b[0;34m\u001b[0m\u001b[0;34m\u001b[0m\u001b[0m\n\u001b[1;32m      8\u001b[0m \u001b[0;32mfrom\u001b[0m \u001b[0mIPython\u001b[0m\u001b[0;34m.\u001b[0m\u001b[0mdisplay\u001b[0m \u001b[0;32mimport\u001b[0m \u001b[0mdisplay\u001b[0m\u001b[0;34m,\u001b[0m \u001b[0mMarkdown\u001b[0m\u001b[0;34m\u001b[0m\u001b[0;34m\u001b[0m\u001b[0m\n\u001b[0;32m----> 9\u001b[0;31m \u001b[0;32mfrom\u001b[0m \u001b[0mpipeline\u001b[0m \u001b[0;32mimport\u001b[0m \u001b[0mCardiologyLightRAG\u001b[0m\u001b[0;34m\u001b[0m\u001b[0;34m\u001b[0m\u001b[0m\n\u001b[0m\u001b[1;32m     10\u001b[0m \u001b[0;32mimport\u001b[0m \u001b[0mtime\u001b[0m\u001b[0;34m\u001b[0m\u001b[0;34m\u001b[0m\u001b[0m\n",
      "\u001b[0;32m~/Documents/Projects/CARDIO-LR/pipeline.py\u001b[0m in \u001b[0;36m<module>\u001b[0;34m\u001b[0m\n\u001b[1;32m      1\u001b[0m \u001b[0;32mimport\u001b[0m \u001b[0mos\u001b[0m\u001b[0;34m\u001b[0m\u001b[0;34m\u001b[0m\u001b[0m\n\u001b[0;32m----> 2\u001b[0;31m \u001b[0;32mfrom\u001b[0m \u001b[0mretrieval\u001b[0m\u001b[0;34m.\u001b[0m\u001b[0mhybrid_retriever\u001b[0m \u001b[0;32mimport\u001b[0m \u001b[0mHybridRetriever\u001b[0m\u001b[0;34m\u001b[0m\u001b[0;34m\u001b[0m\u001b[0m\n\u001b[0m\u001b[1;32m      3\u001b[0m \u001b[0;32mfrom\u001b[0m \u001b[0mgnn\u001b[0m\u001b[0;34m.\u001b[0m\u001b[0msubgraph_extractor\u001b[0m \u001b[0;32mimport\u001b[0m \u001b[0mSubgraphExtractor\u001b[0m\u001b[0;34m\u001b[0m\u001b[0;34m\u001b[0m\u001b[0m\n\u001b[1;32m      4\u001b[0m \u001b[0;32mfrom\u001b[0m \u001b[0mgeneration\u001b[0m\u001b[0;34m.\u001b[0m\u001b[0mbiomed_generator\u001b[0m \u001b[0;32mimport\u001b[0m \u001b[0mBiomedGenerator\u001b[0m\u001b[0;34m\u001b[0m\u001b[0;34m\u001b[0m\u001b[0m\n\u001b[1;32m      5\u001b[0m \u001b[0;32mfrom\u001b[0m \u001b[0mgeneration\u001b[0m\u001b[0;34m.\u001b[0m\u001b[0manswer_validator\u001b[0m \u001b[0;32mimport\u001b[0m \u001b[0mAnswerValidator\u001b[0m\u001b[0;34m\u001b[0m\u001b[0;34m\u001b[0m\u001b[0m\n",
      "\u001b[0;32m~/Documents/Projects/CARDIO-LR/retrieval/hybrid_retriever.py\u001b[0m in \u001b[0;36m<module>\u001b[0;34m\u001b[0m\n\u001b[1;32m      2\u001b[0m \u001b[0;32mimport\u001b[0m \u001b[0mos\u001b[0m\u001b[0;34m\u001b[0m\u001b[0;34m\u001b[0m\u001b[0m\n\u001b[1;32m      3\u001b[0m \u001b[0;32mimport\u001b[0m \u001b[0mjson\u001b[0m\u001b[0;34m\u001b[0m\u001b[0;34m\u001b[0m\u001b[0m\n\u001b[0;32m----> 4\u001b[0;31m \u001b[0;32mimport\u001b[0m \u001b[0mfaiss\u001b[0m\u001b[0;34m\u001b[0m\u001b[0;34m\u001b[0m\u001b[0m\n\u001b[0m\u001b[1;32m      5\u001b[0m \u001b[0;32mimport\u001b[0m \u001b[0mnumpy\u001b[0m \u001b[0;32mas\u001b[0m \u001b[0mnp\u001b[0m\u001b[0;34m\u001b[0m\u001b[0;34m\u001b[0m\u001b[0m\n\u001b[1;32m      6\u001b[0m \u001b[0;32mfrom\u001b[0m \u001b[0msentence_transformers\u001b[0m \u001b[0;32mimport\u001b[0m \u001b[0mSentenceTransformer\u001b[0m\u001b[0;34m\u001b[0m\u001b[0;34m\u001b[0m\u001b[0m\n",
      "\u001b[0;31mModuleNotFoundError\u001b[0m: No module named 'faiss'"
     ]
    }
   ],
   "source": [
    "# Note: This is a Jupyter Notebook - save with .ipynb extension\n",
    "import sys\n",
    "import os\n",
    "# Add the parent directory to path so we can import modules from there\n",
    "sys.path.append(os.path.abspath('..'))\n",
    "\n",
    "import ipywidgets as widgets\n",
    "from IPython.display import display, Markdown\n",
    "from pipeline import CardiologyLightRAG\n",
    "import time"
   ]
  },
  {
   "cell_type": "code",
   "execution_count": null,
   "id": "38c043ff",
   "metadata": {},
   "outputs": [],
   "source": [
    "# Initialize system\n",
    "system = CardiologyLightRAG()"
   ]
  },
  {
   "cell_type": "code",
   "execution_count": null,
   "id": "5cebdcd5",
   "metadata": {},
   "outputs": [],
   "source": [
    "# Create UI components\n",
    "question_input = widgets.Textarea(\n",
    "    value='What are the first-line treatments for stable angina?',\n",
    "    placeholder='Enter a cardiology-related question...',\n",
    "    description='Question:',\n",
    "    layout={'width': '90%', 'height': '100px'}\n",
    ")"
   ]
  },
  {
   "cell_type": "code",
   "execution_count": null,
   "id": "b46104c2",
   "metadata": {},
   "outputs": [],
   "source": [
    "patient_context = widgets.Textarea(\n",
    "    value='Patient has diabetes and hypertension',\n",
    "    placeholder='Enter patient context (conditions, allergies, meds)...',\n",
    "    description='Patient:',\n",
    "    layout={'width': '90%', 'height': '80px'}\n",
    ")"
   ]
  },
  {
   "cell_type": "code",
   "execution_count": null,
   "id": "1fab15f6",
   "metadata": {
    "lines_to_next_cell": 1
   },
   "outputs": [],
   "source": [
    "submit_btn = widgets.Button(description=\"Get Clinical Answer\", button_style='success')\n",
    "output_area = widgets.Output()\n",
    "explanation_area = widgets.Output()"
   ]
  },
  {
   "cell_type": "code",
   "execution_count": null,
   "id": "66c1cb2a",
   "metadata": {
    "lines_to_next_cell": 1
   },
   "outputs": [],
   "source": [
    "def on_submit_clicked(b):\n",
    "    with output_area:\n",
    "        output_area.clear_output()\n",
    "        explanation_area.clear_output()\n",
    "        \n",
    "        start_time = time.time()\n",
    "        print(\"Processing your cardiology query...\")\n",
    "        \n",
    "        # Process query\n",
    "        answer, explanation = system.process_query(\n",
    "            question_input.value, \n",
    "            patient_context.value\n",
    "        )\n",
    "        \n",
    "        end_time = time.time()\n",
    "        duration = end_time - start_time\n",
    "        \n",
    "        # Display results\n",
    "        display(Markdown(f\"### Clinical Answer\"))\n",
    "        display(Markdown(f\"{answer}\"))\n",
    "        display(Markdown(f\"*Generated in {duration:.2f} seconds*\"))\n",
    "        \n",
    "        # Show explanation\n",
    "        with explanation_area:\n",
    "            display(Markdown(f\"### Clinical Reasoning Report\"))\n",
    "            display(Markdown(explanation))"
   ]
  },
  {
   "cell_type": "code",
   "execution_count": null,
   "id": "7198924d",
   "metadata": {},
   "outputs": [],
   "source": [
    "submit_btn.on_click(on_submit_clicked)"
   ]
  },
  {
   "cell_type": "code",
   "execution_count": null,
   "id": "adcf7a42",
   "metadata": {},
   "outputs": [],
   "source": [
    "# Display UI\n",
    "display(widgets.VBox([\n",
    "    widgets.HTML(\"<h1>Cardiology LightRAG Clinical QA System</h1>\"),\n",
    "    widgets.HTML(\"<p>Ask cardiology-related questions with patient-specific context</p>\"),\n",
    "    question_input,\n",
    "    patient_context,\n",
    "    submit_btn,\n",
    "    output_area,\n",
    "    explanation_area\n",
    "]))"
   ]
  }
 ],
 "metadata": {
  "jupytext": {
   "cell_metadata_filter": "-all",
   "main_language": "python",
   "notebook_metadata_filter": "-all"
  },
  "kernelspec": {
   "display_name": "Python 3 (ipykernel)",
   "language": "python",
   "name": "python3"
  },
  "language_info": {
   "codemirror_mode": {
    "name": "ipython",
    "version": 3
   },
   "file_extension": ".py",
   "mimetype": "text/x-python",
   "name": "python",
   "nbconvert_exporter": "python",
   "pygments_lexer": "ipython3",
   "version": "3.6.8"
  }
 },
 "nbformat": 4,
 "nbformat_minor": 5
}
